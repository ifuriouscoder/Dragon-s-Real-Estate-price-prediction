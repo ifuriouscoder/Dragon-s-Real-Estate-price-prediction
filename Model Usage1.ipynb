{
 "cells": [
  {
   "cell_type": "code",
   "execution_count": 1,
   "metadata": {},
   "outputs": [],
   "source": [
    "from joblib import dump, load \n",
    "import numpy as np \n",
    "model = load('Dragon.joblib')"
   ]
  },
  {
   "cell_type": "code",
   "execution_count": 4,
   "metadata": {},
   "outputs": [
    {
     "name": "stdout",
     "output_type": "stream",
     "text": [
      "Enter the elements-0.43942006, 3.12628155, -1.12165014, -0.27288841, -1.4221456, -0.23979304, -1.31238772, 2.61111401, -1.0016859 , -0.5778192 ,  -0.97491834, 0.41164221, -0.86091034\n",
      "[-0.43942006, 3.12628155, -1.12165014, -0.27288841, -1.4221456, -0.23979304, -1.31238772, 2.61111401, -1.0016859, -0.5778192, -0.97491834, 0.41164221, -0.86091034]\n",
      "List:  [-0.43942006, 3.12628155, -1.12165014, -0.27288841, -1.4221456, -0.23979304, -1.31238772, 2.61111401, -1.0016859, -0.5778192, -0.97491834, 0.41164221, -0.86091034]\n",
      "\n",
      "Array:  [[-0.43942006  3.12628155 -1.12165014 -0.27288841 -1.4221456  -0.23979304\n",
      "  -1.31238772  2.61111401 -1.0016859  -0.5778192  -0.97491834  0.41164221\n",
      "  -0.86091034]]\n"
     ]
    },
    {
     "data": {
      "text/plain": [
       "array([22.472])"
      ]
     },
     "execution_count": 4,
     "metadata": {},
     "output_type": "execute_result"
    }
   ],
   "source": [
    "# number of elements as input\n",
    "lst = list(map(float, input(\"Enter the elements\").split(\",\")))\n",
    "\n",
    " \n",
    "print(lst)\n",
    "\n",
    "features = np.array(lst).reshape(1,13)    #reshaped to 1row and 13columns to convert it into 2D array\n",
    " \n",
    "# displaying list\n",
    "print (\"List: \", lst)\n",
    "\n",
    "print()\n",
    " \n",
    "# displaying array\n",
    "print (\"Array: \", features)\n",
    "\n",
    "# model.predict(lst)    #gives ValueError as it requires 2D array\n",
    "model.predict(features)"
   ]
  },
  {
   "cell_type": "code",
   "execution_count": null,
   "metadata": {},
   "outputs": [],
   "source": []
  }
 ],
 "metadata": {
  "kernelspec": {
   "display_name": "Python 3 (ipykernel)",
   "language": "python",
   "name": "python3"
  },
  "language_info": {
   "codemirror_mode": {
    "name": "ipython",
    "version": 3
   },
   "file_extension": ".py",
   "mimetype": "text/x-python",
   "name": "python",
   "nbconvert_exporter": "python",
   "pygments_lexer": "ipython3",
   "version": "3.11.2"
  }
 },
 "nbformat": 4,
 "nbformat_minor": 2
}
